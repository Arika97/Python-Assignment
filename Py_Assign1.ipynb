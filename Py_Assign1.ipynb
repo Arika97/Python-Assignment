{
 "cells": [
  {
   "cell_type": "code",
   "execution_count": 1,
   "metadata": {},
   "outputs": [
    {
     "name": "stdout",
     "output_type": "stream",
     "text": [
      "Twinkle, twinkle, little star ,\n",
      "\t How I wonder what you are!, \n",
      "\t\t Up above the world so high,\n",
      "\t\t Like a diamond in the Sky,\n",
      "Twinkle, twinkle, little star,\n",
      "\t How I wonder What you are!\n"
     ]
    }
   ],
   "source": [
    "#Write a Python program to print the following string in a specific format.\n",
    "print(\"Twinkle, twinkle, little star ,\\n\\t How I wonder what you are!, \\n\\t\\t Up above the world so high,\\n\\t\\t Like a diamond in the Sky,\\nTwinkle, twinkle, little star,\\n\\t How I wonder What you are!\")"
   ]
  },
  {
   "cell_type": "code",
   "execution_count": 2,
   "metadata": {},
   "outputs": [
    {
     "name": "stdout",
     "output_type": "stream",
     "text": [
      "Python version\n",
      "3.7.4 (default, Aug  9 2019, 18:34:13) [MSC v.1915 64 bit (AMD64)]\n",
      "Version Information.\n",
      "sys.version_info(major=3, minor=7, micro=4, releaselevel='final', serial=0)\n"
     ]
    }
   ],
   "source": [
    "#Write a Python program to get the Python version you are using.\n",
    "\n",
    "import sys\n",
    "\n",
    "print (\"Python version\")\n",
    "print(sys.version)\n",
    "print(\"Version Information.\")\n",
    "print(sys.version_info)"
   ]
  },
  {
   "cell_type": "code",
   "execution_count": 3,
   "metadata": {},
   "outputs": [
    {
     "name": "stdout",
     "output_type": "stream",
     "text": [
      "Date and time:2019-11-05 23:23:02\n"
     ]
    }
   ],
   "source": [
    "#Write a Python program to display the current date and time.\n",
    "\n",
    "import datetime\n",
    "\n",
    "now=datetime.datetime.now()\n",
    "  \n",
    "dateStr=now.strftime(\"%Y-%m-%d %H:%M:%S\")\n",
    "print(\"Date and time:\"+dateStr)"
   ]
  },
  {
   "cell_type": "code",
   "execution_count": 4,
   "metadata": {},
   "outputs": [
    {
     "name": "stdout",
     "output_type": "stream",
     "text": [
      "Enter the radius of the circle:4\n",
      "Area of the circle: 50.26548245743669\n"
     ]
    }
   ],
   "source": [
    "#Write a Python program which accepts the radius of a circle from the user and compute the area.\n",
    "\n",
    "from math import pi;\n",
    "\n",
    "r=float(input(\"Enter the radius of the circle:\"))\n",
    "area=pi*r**2\n",
    "print(\"Area of the circle:\",area)\n"
   ]
  },
  {
   "cell_type": "code",
   "execution_count": 10,
   "metadata": {},
   "outputs": [
    {
     "name": "stdout",
     "output_type": "stream",
     "text": [
      "Write your first name: Arika\n",
      "Write your last name: Masroor\n",
      "Arika Masroor\n",
      "roorsaM akirA\n"
     ]
    }
   ],
   "source": [
    "#Write a Python program which accepts the user's first and last name and print them in reverse order with a space between them.\n",
    "\n",
    "first_name=input(\"Write your first name: \")\n",
    "last_name=input(\"Write your last name: \")\n",
    "\n",
    "print(first_name+\" \"+last_name)\n",
    "fullname=first_name+\" \"+last_name\n",
    "\n",
    "reversestring= fullname[::-1]\n",
    "print(reversestring)"
   ]
  },
  {
   "cell_type": "code",
   "execution_count": 9,
   "metadata": {},
   "outputs": [
    {
     "name": "stdout",
     "output_type": "stream",
     "text": [
      "Enter the first number:1\n",
      "Enter the second number:2\n",
      "Sum of two numbers is : 3\n"
     ]
    }
   ],
   "source": [
    "#Write a python program which takes two inputs from user and print them addition.\n",
    "\n",
    "x=int(input(\"Enter the first number:\"))\n",
    "y=int(input(\"Enter the second number:\"))\n",
    "\n",
    "print(\"Sum of two numbers is :\",(x+y))"
   ]
  },
  {
   "cell_type": "code",
   "execution_count": null,
   "metadata": {},
   "outputs": [],
   "source": []
  }
 ],
 "metadata": {
  "kernelspec": {
   "display_name": "Python 3",
   "language": "python",
   "name": "python3"
  },
  "language_info": {
   "codemirror_mode": {
    "name": "ipython",
    "version": 3
   },
   "file_extension": ".py",
   "mimetype": "text/x-python",
   "name": "python",
   "nbconvert_exporter": "python",
   "pygments_lexer": "ipython3",
   "version": "3.7.4"
  }
 },
 "nbformat": 4,
 "nbformat_minor": 2
}
